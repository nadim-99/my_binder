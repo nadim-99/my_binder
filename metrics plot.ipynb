import gdown
import numpy as np
import pandas as pd
import matplotlib.pyplot as plt
import seaborn as sns

file_id = "1gbCZvvxk9OCGH-tMD4fDgdp8z7Ms9MY1"

url = f'https://drive.google.com/uc?id={file_id}'
output = 'metrics.xlsx'
gdown.download(url, output, quiet=True)

df=pd.read_excel('/content/metrics.xlsx')

epc=df[['Epochs']].values
r2=df[['R2']].values
mse=df[['MSE']].values
rmse=df[['RMSE']].values
mae=df[['MAE']].values
mape=df[['MAPE']].values

import os
from matplotlib import font_manager as fm, rcParams
import matplotlib.pyplot as plt

fig, ax = plt.subplots()

fpath = os.path.join(rcParams["datapath"], "/content/times new roman.ttf")
prop = fm.FontProperties(fname=fpath)
fname = os.path.split(fpath)[1]

plt.figure(figsize=(25,20))
# ax1.xaxis.set_tick_params(labelsize=15, fontproperties=prop)
ax1=plt.subplot(2, 2,1)

ax1.plot(epc,mse, '-', label='MSE', 
        #  zorder=100, 
         linewidth= 5,
        color='#2E8B57')
ax1.set_xlabel('Epochs', fontsize=20, fontproperties=prop)
ax1.set_ylabel('MSE', fontsize=20, fontproperties=prop)
ax1.set_title('Epoch vs MSE', fontsize=30, fontproperties=prop)
# ax.set_tick_params(axis='both', 
#                   #  labelsize=15,
#                    fontproperties=prop)
ax1.set_xlim(left=0)
# ax.show()
ax1.xaxis.set_tick_params(labelcolor='r')

ax2=plt.subplot(2, 2,2)
# ax.figure(figsize=(10,8))
ax2.plot(epc,rmse, '-', label='RMSE', 
        #  zorder=100, 
        color='#4B0082',
         linewidth= 5)
ax2.set_xlabel('Epochs', fontsize=20, fontproperties=prop)
ax2.set_ylabel('RMSE', fontsize=20, fontproperties=prop)
ax2.set_title('Epoch vs RMSE', fontsize=30, fontproperties=prop)
# ax.set_tick_params(axis='both', labelsize=15)
ax2.set_xlim(left=0)
# ax.show()


ax3=plt.subplot(2, 2,3)
# ax.figure(figsize=(10,8))
ax3.plot(epc,mae, '-', label='MAE', 
        #  zorder=100, 
        color= '#008080',
         linewidth= 5)
ax3.set_xlabel('Epochs', fontsize=20, fontproperties=prop)
ax3.set_ylabel('MAE', fontsize=20, fontproperties=prop)
ax3.set_title('Epoch vs MAE', fontsize=30, fontproperties=prop)
# ax.set_tick_params(axis='both', labelsize=15)
ax3.set_xlim(left=0)
# ax.show()

ax4=plt.subplot(2, 2,4)
# ax.figure(figsize=(10,8))
ax4.plot(epc,mape, '-', label='MAPE', 
        #  zorder=100, 
        color='#228B22',
         linewidth= 5)
ax4.set_xlabel('Epochs', fontsize=20, fontproperties=prop)
ax4.set_ylabel('MAPE', fontsize=20, fontproperties=prop)
ax4.set_title('Epoch vs MAPE', fontsize=30, fontproperties=prop)
# ax.set_tick_params(axis='both', labelsize=15)
ax4.set_xlim(left=0)
# ax.show()

plt.savefig('metrics.png', dpi=500)
